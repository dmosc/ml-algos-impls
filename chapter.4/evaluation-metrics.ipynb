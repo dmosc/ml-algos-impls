{
 "cells": [
  {
   "cell_type": "code",
   "execution_count": 1,
   "metadata": {},
   "outputs": [
    {
     "data": {
      "text/plain": [
       "80.0"
      ]
     },
     "metadata": {},
     "output_type": "display_data"
    }
   ],
   "source": [
    "# Classification accuracy\n",
    "\n",
    "def accuracy_metric(actual, predicted):\n",
    "  correct_count = 0\n",
    "  assert len(actual) == len(predicted)\n",
    "  for i in range(len(actual)):\n",
    "    correct_count += 1 if actual[i] == predicted[i] else 0\n",
    "  return (correct_count / len(actual)) * 100.0\n",
    "\n",
    "\n",
    "actual = [0, 0, 0, 0, 0, 1, 1, 1, 1, 1]\n",
    "predicted = [0, 1, 0, 0, 0, 1, 0, 1, 1, 1]\n",
    "accuracy = accuracy_metric(actual, predicted)\n",
    "display(accuracy)"
   ]
  },
  {
   "cell_type": "code",
   "execution_count": 14,
   "metadata": {},
   "outputs": [
    {
     "data": {
      "text/plain": [
       "{0, 1}"
      ]
     },
     "metadata": {},
     "output_type": "display_data"
    },
    {
     "data": {
      "text/plain": [
       "[[3, 1], [2, 4]]"
      ]
     },
     "metadata": {},
     "output_type": "display_data"
    }
   ],
   "source": [
    "def confusion_matrix(actual, predicted):\n",
    "  assert len(actual) == len(predicted)\n",
    "\n",
    "  unique_classes = set(actual)\n",
    "  conf_mat = [[0] * len(unique_classes) for _ in range(len(unique_classes))]\n",
    "  lookup = dict()\n",
    "\n",
    "  for idx, cls_name in enumerate(unique_classes):\n",
    "    lookup[cls_name] = idx\n",
    "  for i in range(len(actual)):\n",
    "    x = lookup[actual[i]]\n",
    "    y = lookup[predicted[i]]\n",
    "    conf_mat[y][x] += 1\n",
    "  \n",
    "  return unique_classes, conf_mat\n",
    "\n",
    "\n",
    "actual = [0, 0, 0, 0, 0, 1, 1, 1, 1, 1]\n",
    "predicted = [0, 1, 1, 0, 0, 1, 0, 1, 1, 1]\n",
    "unique_classes, conf_mat = confusion_matrix(actual=actual, predicted=predicted)\n",
    "display(unique_classes, conf_mat)"
   ]
  },
  {
   "cell_type": "code",
   "execution_count": 15,
   "metadata": {},
   "outputs": [
    {
     "data": {
      "text/plain": [
       "'MAE: 0.3'"
      ]
     },
     "metadata": {},
     "output_type": "display_data"
    }
   ],
   "source": [
    "def mean_absolute_error(actual, predicted):\n",
    "  assert len(actual) == len(predicted)\n",
    "\n",
    "  sum_error = sum(map(lambda a, p: abs(a - p), actual, predicted))\n",
    "\n",
    "  return sum_error / len(actual)\n",
    "\n",
    "\n",
    "actual = [0.1, 0.2, 0.3, 0.4, 0.5]\n",
    "predicted = [0.11, 0.19, 0.29, 0.41, 0.5]\n",
    "mae = mean_absolute_error(actual=actual, predicted=predicted)\n",
    "display(f\"MAE: {mae}\")"
   ]
  }
 ],
 "metadata": {
  "kernelspec": {
   "display_name": "Python 3",
   "language": "python",
   "name": "python3"
  },
  "language_info": {
   "codemirror_mode": {
    "name": "ipython",
    "version": 3
   },
   "file_extension": ".py",
   "mimetype": "text/x-python",
   "name": "python",
   "nbconvert_exporter": "python",
   "pygments_lexer": "ipython3",
   "version": "3.9.9"
  },
  "orig_nbformat": 4,
  "vscode": {
   "interpreter": {
    "hash": "d90add59a33e9f0fdc2a403872f22c3f38cf2bdffc6f1ab0ac261e13b4722f13"
   }
  }
 },
 "nbformat": 4,
 "nbformat_minor": 2
}
