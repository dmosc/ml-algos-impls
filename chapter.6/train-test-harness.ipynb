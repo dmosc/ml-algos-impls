{
 "cells": [
  {
   "cell_type": "code",
   "execution_count": 1,
   "metadata": {},
   "outputs": [],
   "source": [
    "from random import seed, randrange\n",
    "from csv import reader\n",
    "from functools import reduce\n",
    "\n",
    "\n",
    "seed(42)\n",
    "\n",
    "\n",
    "def load_csv(filepath):\n",
    "  dataset = []\n",
    "  with open(filepath, \"r\") as file:\n",
    "    csv_reader = reader(file)\n",
    "    for row in csv_reader:\n",
    "      if row:\n",
    "        dataset.append(row)\n",
    "  return dataset\n",
    "\n",
    "\n",
    "def str_col_to_float(dataset, col):\n",
    "  for row in dataset:\n",
    "    row[col] = float(row[col].strip())\n",
    "\n",
    "\n",
    "def train_test_split(dataset, split=0.6):\n",
    "  train = []\n",
    "  train_size = len(dataset) * split\n",
    "  test = dataset.copy()\n",
    "\n",
    "  while len(train) < train_size:\n",
    "    idx = randrange(len(test))\n",
    "    train.append(test.pop(idx))\n",
    "  \n",
    "  return train, test\n",
    "\n",
    "\n",
    "def accuracy_metric(actual, predicted):\n",
    "  assert len(actual) == len(predicted)\n",
    "  \n",
    "  correct_count = 0\n",
    "  \n",
    "  for i in range(len(actual)):\n",
    "    correct_count += 1 if actual[i] == predicted[i] else 0\n",
    "  \n",
    "  return (correct_count / len(actual)) * 100.0"
   ]
  },
  {
   "cell_type": "code",
   "execution_count": 17,
   "metadata": {},
   "outputs": [],
   "source": [
    "def evaluate_algorithm(dataset, algorithm, split, *args):\n",
    "  train, test = train_test_split(dataset, split)\n",
    "  test_set = list()\n",
    "  \n",
    "  for row in test:\n",
    "    row_copy = row.copy()\n",
    "    row_copy[-1] = None\n",
    "    test_set.append(row_copy)\n",
    "  predicted = algorithm(train, test_set, *args)\n",
    "  actual = [row[-1] for row in test]\n",
    "  accuracy = accuracy_metric(actual, predicted)\n",
    "  \n",
    "  return accuracy\n",
    "\n",
    "\n",
    "def zero_rule_algorithm_classification(train, test):\n",
    "  output_vals = list(map(lambda row: row[-1], train))\n",
    "  prediction = max(set(output_vals), key=output_vals.count)\n",
    "  return [prediction] * len(test)"
   ]
  },
  {
   "cell_type": "code",
   "execution_count": 26,
   "metadata": {},
   "outputs": [
    {
     "data": {
      "text/plain": [
       "'accuracy: 67.10%'"
      ]
     },
     "metadata": {},
     "output_type": "display_data"
    }
   ],
   "source": [
    "filepath = \"../datasets/pima-indians-diabetes.csv\"\n",
    "dataset = load_csv(filepath=filepath)\n",
    "\n",
    "for i in range(len(dataset[0])):\n",
    "  str_col_to_float(dataset=dataset, col=i)\n",
    "\n",
    "accuracy = evaluate_algorithm(dataset=dataset, algorithm=zero_rule_algorithm_classification, split=0.6)\n",
    "display(f\"accuracy: {accuracy:.2f}%\")"
   ]
  }
 ],
 "metadata": {
  "kernelspec": {
   "display_name": "Python 3",
   "language": "python",
   "name": "python3"
  },
  "language_info": {
   "codemirror_mode": {
    "name": "ipython",
    "version": 3
   },
   "file_extension": ".py",
   "mimetype": "text/x-python",
   "name": "python",
   "nbconvert_exporter": "python",
   "pygments_lexer": "ipython3",
   "version": "3.9.9"
  },
  "orig_nbformat": 4,
  "vscode": {
   "interpreter": {
    "hash": "d90add59a33e9f0fdc2a403872f22c3f38cf2bdffc6f1ab0ac261e13b4722f13"
   }
  }
 },
 "nbformat": 4,
 "nbformat_minor": 2
}
