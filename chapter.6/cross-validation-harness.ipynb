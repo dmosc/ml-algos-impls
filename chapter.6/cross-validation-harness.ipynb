{
 "cells": [
  {
   "cell_type": "code",
   "execution_count": 5,
   "metadata": {},
   "outputs": [],
   "source": [
    "from random import seed, randrange\n",
    "from csv import reader\n",
    "\n",
    "\n",
    "seed(42)\n",
    "\n",
    "\n",
    "def load_csv(filepath):\n",
    "  dataset = []\n",
    "  \n",
    "  with open(filepath, \"r\") as file:\n",
    "    csv_reader = reader(file)\n",
    "    for row in csv_reader:\n",
    "      if row:\n",
    "        dataset.append(row)\n",
    "  \n",
    "  return dataset\n",
    "\n",
    "\n",
    "def str_col_to_float(dataset, col):\n",
    "  for row in dataset:\n",
    "    row[col] = float(row[col].strip())\n",
    "\n",
    "\n",
    "def cross_validation_split(dataset, n_folds):\n",
    "  folds = []\n",
    "  _dataset = dataset.copy()\n",
    "  fold_size = int(len(_dataset) / n_folds)\n",
    "\n",
    "  for _ in range(n_folds):\n",
    "    fold = []\n",
    "    while len(fold) < fold_size:\n",
    "      idx = randrange(len(_dataset))\n",
    "      fold.append(_dataset.pop(idx))\n",
    "    folds.append(fold)\n",
    "  \n",
    "  return folds\n",
    "\n",
    "\n",
    "def accuracy_metric(actual, predicted):\n",
    "  assert len(actual) == len(predicted)\n",
    "\n",
    "  correct_count = 0\n",
    "  \n",
    "  for i in range(len(actual)):\n",
    "    correct_count += 1 if actual[i] == predicted[i] else 0\n",
    "\n",
    "  return (correct_count / len(actual)) * 100.0"
   ]
  },
  {
   "cell_type": "code",
   "execution_count": 17,
   "metadata": {},
   "outputs": [],
   "source": [
    "def evaluate_algorithm(dataset, algorithm, n_folds, *args):\n",
    "  folds = cross_validation_split(dataset=dataset, n_folds=n_folds)\n",
    "  scores = []\n",
    "\n",
    "  for fold in folds:\n",
    "    train = folds.copy()\n",
    "    train.remove(fold)\n",
    "    train = sum(train, [])\n",
    "    test = []\n",
    "    for row in fold:\n",
    "      _row = row.copy()\n",
    "      _row[-1] = None\n",
    "      test.append(_row)\n",
    "    predicted = algorithm(train, test, *args)\n",
    "    actual = list(map(lambda row: row[-1], fold))\n",
    "    accuracy = accuracy_metric(actual=actual, predicted=predicted)\n",
    "    scores.append(accuracy)\n",
    "  \n",
    "  return scores\n",
    "\n",
    "def zero_rule_algorithm_classification(train, test):\n",
    "  output_vals = list(map(lambda row: row[-1], train))\n",
    "  prediction = max(set(output_vals), key=output_vals.count)\n",
    "  predicted = [prediction] * len(test)\n",
    "  \n",
    "  return predicted"
   ]
  },
  {
   "cell_type": "code",
   "execution_count": 27,
   "metadata": {},
   "outputs": [
    {
     "data": {
      "text/plain": [
       "'Scores: [66.01307189542483, 66.01307189542483, 61.43790849673203, 62.745098039215684, 68.62745098039215]'"
      ]
     },
     "metadata": {},
     "output_type": "display_data"
    },
    {
     "data": {
      "text/plain": [
       "'Mean score: 64.97%'"
      ]
     },
     "metadata": {},
     "output_type": "display_data"
    }
   ],
   "source": [
    "filepath = \"../datasets/pima-indians-diabetes.csv\"\n",
    "dataset = load_csv(filepath=filepath)\n",
    "\n",
    "for i in range(len(dataset[0])):\n",
    "  str_col_to_float(dataset=dataset, col=i)\n",
    "\n",
    "scores = evaluate_algorithm(dataset=dataset, algorithm=zero_rule_algorithm_classification, n_folds=5)\n",
    "display(f\"Scores: {scores}\")\n",
    "display(f\"Mean score: {(sum(scores) / len(scores)):.2f}%\")"
   ]
  }
 ],
 "metadata": {
  "kernelspec": {
   "display_name": "Python 3",
   "language": "python",
   "name": "python3"
  },
  "language_info": {
   "codemirror_mode": {
    "name": "ipython",
    "version": 3
   },
   "file_extension": ".py",
   "mimetype": "text/x-python",
   "name": "python",
   "nbconvert_exporter": "python",
   "pygments_lexer": "ipython3",
   "version": "3.9.9"
  },
  "orig_nbformat": 4,
  "vscode": {
   "interpreter": {
    "hash": "d90add59a33e9f0fdc2a403872f22c3f38cf2bdffc6f1ab0ac261e13b4722f13"
   }
  }
 },
 "nbformat": 4,
 "nbformat_minor": 2
}
