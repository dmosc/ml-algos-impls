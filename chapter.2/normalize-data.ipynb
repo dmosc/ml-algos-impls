{
 "cells": [
  {
   "cell_type": "code",
   "execution_count": 11,
   "metadata": {},
   "outputs": [
    {
     "data": {
      "text/plain": [
       "[[20, 50], [30, 90]]"
      ]
     },
     "metadata": {},
     "output_type": "display_data"
    }
   ],
   "source": [
    "def dataset_minmax(dataset):\n",
    "  minmax = list()\n",
    "  for col in range(len(dataset[0])):\n",
    "    col_vals = [row[col] for row in dataset]\n",
    "    min_val = min(col_vals)\n",
    "    max_val = max(col_vals)\n",
    "    minmax.append([min_val, max_val])\n",
    "  return minmax\n",
    "\n",
    "\n",
    "dataset = [[50, 30], [20, 90], [30, 50]]\n",
    "minmax = dataset_minmax(dataset=dataset)\n",
    "assert minmax == [[20, 50], [30, 90]]\n",
    "display(minmax)"
   ]
  },
  {
   "cell_type": "code",
   "execution_count": 15,
   "metadata": {},
   "outputs": [
    {
     "data": {
      "text/plain": [
       "[[1.0, 0.0], [0.0, 1.0], [0.3333333333333333, 0.3333333333333333]]"
      ]
     },
     "metadata": {},
     "output_type": "display_data"
    }
   ],
   "source": [
    "def normalize(dataset):\n",
    "  minmax = dataset_minmax(dataset=dataset)\n",
    "  for row in dataset:\n",
    "    for col in range(len(row)):\n",
    "      row[col] = (row[col] - minmax[col][0]) / (minmax[col][1] - minmax[col][0])\n",
    "  return dataset\n",
    "\n",
    "\n",
    "dataset = [[50, 30], [20, 90], [30, 50]]\n",
    "normalized_dataset = normalize(dataset=dataset)\n",
    "display(normalized_dataset)"
   ]
  },
  {
   "cell_type": "code",
   "execution_count": 17,
   "metadata": {},
   "outputs": [
    {
     "data": {
      "text/plain": [
       "[33.333333333333336, 56.666666666666664]"
      ]
     },
     "metadata": {},
     "output_type": "display_data"
    }
   ],
   "source": [
    "def col_means(dataset):\n",
    "  means = list()\n",
    "  n_rows = len(dataset)\n",
    "  for col in range(len(dataset[0])):\n",
    "    col_vals = [row[col] for row in dataset]\n",
    "    means.append(sum(col_vals) / float(n_rows))\n",
    "  return means\n",
    "\n",
    "\n",
    "dataset = [[50, 30], [20, 90], [30, 50]]\n",
    "means = col_means(dataset=dataset)\n",
    "display(means)"
   ]
  },
  {
   "cell_type": "code",
   "execution_count": 20,
   "metadata": {},
   "outputs": [
    {
     "data": {
      "text/plain": [
       "[15.275252316519467, 30.550504633038933]"
      ]
     },
     "metadata": {},
     "output_type": "display_data"
    }
   ],
   "source": [
    "from math import sqrt\n",
    "\n",
    "\n",
    "def col_stddevs(dataset):\n",
    "  means = col_means(dataset=dataset)\n",
    "  n_rows = len(dataset)\n",
    "  stddevs = list()\n",
    "  for col in range(len(dataset[0])):\n",
    "    variances = [pow(row[col] - means[col], 2) for row in dataset]\n",
    "    stddevs.append(sum(variances))\n",
    "  stddevs = [sqrt(stddev / (n_rows - 1.0)) for stddev in stddevs]\n",
    "  return stddevs\n",
    "\n",
    "\n",
    "dataset = [[50, 30], [20, 90], [30, 50]]\n",
    "stddevs = col_stddevs(dataset=dataset)\n",
    "display(stddevs)"
   ]
  }
 ],
 "metadata": {
  "kernelspec": {
   "display_name": "Python 3",
   "language": "python",
   "name": "python3"
  },
  "language_info": {
   "codemirror_mode": {
    "name": "ipython",
    "version": 3
   },
   "file_extension": ".py",
   "mimetype": "text/x-python",
   "name": "python",
   "nbconvert_exporter": "python",
   "pygments_lexer": "ipython3",
   "version": "3.9.9"
  },
  "orig_nbformat": 4,
  "vscode": {
   "interpreter": {
    "hash": "d90add59a33e9f0fdc2a403872f22c3f38cf2bdffc6f1ab0ac261e13b4722f13"
   }
  }
 },
 "nbformat": 4,
 "nbformat_minor": 2
}
