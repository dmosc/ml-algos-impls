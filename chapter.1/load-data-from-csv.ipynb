{
 "cells": [
  {
   "attachments": {},
   "cell_type": "markdown",
   "metadata": {},
   "source": [
    "# Data loading\n",
    "\n",
    "The first step of the Machine Learning lifecycle is to load, cleanup and process datasets into memory. Commonly, certain columns are meant to be processed in different data formats, so functions such as `str_column_to_float(...)` parse entire columns into language-specific data-types like integers, floats, etc."
   ]
  },
  {
   "cell_type": "code",
   "execution_count": 9,
   "metadata": {},
   "outputs": [],
   "source": [
    "from csv import reader"
   ]
  },
  {
   "cell_type": "code",
   "execution_count": 10,
   "metadata": {},
   "outputs": [],
   "source": [
    "def load_csv(filename: str):\n",
    "  dataset = []\n",
    "  with open(filename, \"r\") as file:\n",
    "    for row in reader(file):\n",
    "      if row:\n",
    "        dataset.append(row)\n",
    "  return dataset\n",
    "\n",
    "\n",
    "def str_column_to_float(dataset: list[list[str]], col_idx: int):\n",
    "  _dataset = dataset.copy()\n",
    "  for row in _dataset:\n",
    "    row[col_idx] = float(row[col_idx].strip())\n",
    "  return _dataset\n",
    "\n",
    "\n",
    "def str_column_to_int(dataset: list[list[str]], col_idx: int):\n",
    "  class_values = set(row[col_idx] for row in dataset)\n",
    "  class_idx_map = {}\n",
    "  for i, val in enumerate(class_values):\n",
    "    class_idx_map[val] = i\n",
    "  dataset_ = dataset.copy()\n",
    "  for row in dataset_:\n",
    "    row[col_idx] = class_idx_map[row[col_idx]]\n",
    "  return dataset_, class_idx_map\n"
   ]
  },
  {
   "cell_type": "code",
   "execution_count": 14,
   "metadata": {},
   "outputs": [
    {
     "data": {
      "text/plain": [
       "'Loaded ../datasets/iris.csv with 150 rows and 5 columns'"
      ]
     },
     "metadata": {},
     "output_type": "display_data"
    },
    {
     "data": {
      "text/plain": [
       "[['5.1', '3.5', '1.4', '0.2', 'Iris-setosa'],\n",
       " ['4.9', '3.0', '1.4', '0.2', 'Iris-setosa'],\n",
       " ['4.7', '3.2', '1.3', '0.2', 'Iris-setosa'],\n",
       " ['4.6', '3.1', '1.5', '0.2', 'Iris-setosa'],\n",
       " ['5.0', '3.6', '1.4', '0.2', 'Iris-setosa']]"
      ]
     },
     "metadata": {},
     "output_type": "display_data"
    }
   ],
   "source": [
    "filename = \"../datasets/iris.csv\"\n",
    "dataset = load_csv(filename)\n",
    "display(f'Loaded {filename} with {len(dataset)} rows and {len(dataset[0])} columns')\n",
    "display(dataset[:5])"
   ]
  },
  {
   "cell_type": "code",
   "execution_count": 15,
   "metadata": {},
   "outputs": [
    {
     "data": {
      "text/plain": [
       "[[5.1, '3.5', '1.4', '0.2', 'Iris-setosa'],\n",
       " [4.9, '3.0', '1.4', '0.2', 'Iris-setosa'],\n",
       " [4.7, '3.2', '1.3', '0.2', 'Iris-setosa'],\n",
       " [4.6, '3.1', '1.5', '0.2', 'Iris-setosa'],\n",
       " [5.0, '3.6', '1.4', '0.2', 'Iris-setosa']]"
      ]
     },
     "metadata": {},
     "output_type": "display_data"
    }
   ],
   "source": [
    "dataset = str_column_to_float(dataset, 0)\n",
    "display(dataset[:5])"
   ]
  },
  {
   "cell_type": "code",
   "execution_count": 16,
   "metadata": {},
   "outputs": [
    {
     "data": {
      "text/plain": [
       "{'Iris-versicolor': 0, 'Iris-setosa': 1, 'Iris-virginica': 2}"
      ]
     },
     "metadata": {},
     "output_type": "display_data"
    },
    {
     "data": {
      "text/plain": [
       "[[5.1, '3.5', '1.4', '0.2', 1],\n",
       " [4.9, '3.0', '1.4', '0.2', 1],\n",
       " [4.7, '3.2', '1.3', '0.2', 1],\n",
       " [4.6, '3.1', '1.5', '0.2', 1],\n",
       " [5.0, '3.6', '1.4', '0.2', 1]]"
      ]
     },
     "metadata": {},
     "output_type": "display_data"
    }
   ],
   "source": [
    "dataset, class_map = str_column_to_int(dataset, -1)\n",
    "display(class_map)\n",
    "display(dataset[:5])"
   ]
  }
 ],
 "metadata": {
  "kernelspec": {
   "display_name": "Python 3.10.7 ('venv': venv)",
   "language": "python",
   "name": "python3"
  },
  "language_info": {
   "codemirror_mode": {
    "name": "ipython",
    "version": 3
   },
   "file_extension": ".py",
   "mimetype": "text/x-python",
   "name": "python",
   "nbconvert_exporter": "python",
   "pygments_lexer": "ipython3",
   "version": "3.10.7"
  },
  "orig_nbformat": 4,
  "vscode": {
   "interpreter": {
    "hash": "e796bfdb738a9f5c84fec073b50c634a9afdcaccfee6b994fb1a77d5aafb4870"
   }
  }
 },
 "nbformat": 4,
 "nbformat_minor": 2
}
