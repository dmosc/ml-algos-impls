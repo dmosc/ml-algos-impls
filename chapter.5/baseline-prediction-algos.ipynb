{
 "cells": [
  {
   "cell_type": "code",
   "execution_count": 5,
   "metadata": {},
   "outputs": [
    {
     "data": {
      "text/plain": [
       "[0, 0, 1, 0]"
      ]
     },
     "metadata": {},
     "output_type": "display_data"
    }
   ],
   "source": [
    "from random import seed, randrange\n",
    "\n",
    "\n",
    "seed(42)\n",
    "\n",
    "\n",
    "def random_prediction(train, test):\n",
    "  unique_vals = list(set([row[-1] for row in train]))\n",
    "  predictions = list()\n",
    "\n",
    "  for _ in test:\n",
    "    idx = randrange(len(unique_vals))\n",
    "    predictions.append(unique_vals[idx])\n",
    "  \n",
    "  return predictions\n",
    "\n",
    "\n",
    "train = [[0], [1], [0], [1], [0], [1]]\n",
    "test = [[None], [None], [None], [None]]\n",
    "predictions = random_prediction(train=train, test=test)\n",
    "display(predictions)"
   ]
  },
  {
   "cell_type": "code",
   "execution_count": 6,
   "metadata": {},
   "outputs": [
    {
     "data": {
      "text/plain": [
       "['0', '0', '0', '0']"
      ]
     },
     "metadata": {},
     "output_type": "display_data"
    }
   ],
   "source": [
    "def zero_rule_prediction(train, test):\n",
    "  unique_vals = [row[-1] for row in train]\n",
    "  prediction = max(set(unique_vals), key=unique_vals.count)\n",
    "  return [prediction for _ in test]\n",
    "\n",
    "\n",
    "train = [['0'], ['0'], ['0'], ['0'], ['1'], ['1']]\n",
    "test = [[None], [None], [None], [None]]\n",
    "predictions = zero_rule_prediction(train, test)\n",
    "display(predictions)"
   ]
  }
 ],
 "metadata": {
  "kernelspec": {
   "display_name": "Python 3",
   "language": "python",
   "name": "python3"
  },
  "language_info": {
   "codemirror_mode": {
    "name": "ipython",
    "version": 3
   },
   "file_extension": ".py",
   "mimetype": "text/x-python",
   "name": "python",
   "nbconvert_exporter": "python",
   "pygments_lexer": "ipython3",
   "version": "3.9.9"
  },
  "orig_nbformat": 4,
  "vscode": {
   "interpreter": {
    "hash": "d90add59a33e9f0fdc2a403872f22c3f38cf2bdffc6f1ab0ac261e13b4722f13"
   }
  }
 },
 "nbformat": 4,
 "nbformat_minor": 2
}
