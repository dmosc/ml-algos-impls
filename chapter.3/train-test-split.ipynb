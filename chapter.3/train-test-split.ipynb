{
 "cells": [
  {
   "cell_type": "code",
   "execution_count": 9,
   "metadata": {},
   "outputs": [
    {
     "data": {
      "text/plain": [
       "[[2], [1], [7], [4], [5], [6]]"
      ]
     },
     "metadata": {},
     "output_type": "display_data"
    },
    {
     "data": {
      "text/plain": [
       "[[3], [8], [9], [10]]"
      ]
     },
     "metadata": {},
     "output_type": "display_data"
    }
   ],
   "source": [
    "from random import seed, randrange\n",
    "\n",
    "\n",
    "seed(42)\n",
    "\n",
    "\n",
    "def train_test_split(dataset, split=0.6):\n",
    "  train = list()\n",
    "  train_size = len(dataset) * split\n",
    "  _dataset = list(dataset)\n",
    "  while len(train) < train_size:\n",
    "    idx = randrange(len(_dataset))\n",
    "    train.append(_dataset.pop(idx))\n",
    "  return train, _dataset\n",
    "\n",
    "\n",
    "dataset = [[1], [2], [3], [4], [5], [6], [7], [8], [9], [10]]\n",
    "train, test = train_test_split(dataset=dataset)\n",
    "display(train, test)"
   ]
  }
 ],
 "metadata": {
  "kernelspec": {
   "display_name": "Python 3",
   "language": "python",
   "name": "python3"
  },
  "language_info": {
   "codemirror_mode": {
    "name": "ipython",
    "version": 3
   },
   "file_extension": ".py",
   "mimetype": "text/x-python",
   "name": "python",
   "nbconvert_exporter": "python",
   "pygments_lexer": "ipython3",
   "version": "3.9.9"
  },
  "orig_nbformat": 4,
  "vscode": {
   "interpreter": {
    "hash": "d90add59a33e9f0fdc2a403872f22c3f38cf2bdffc6f1ab0ac261e13b4722f13"
   }
  }
 },
 "nbformat": 4,
 "nbformat_minor": 2
}
