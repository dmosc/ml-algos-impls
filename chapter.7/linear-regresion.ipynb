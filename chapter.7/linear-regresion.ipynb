{
 "cells": [
  {
   "cell_type": "code",
   "execution_count": 65,
   "metadata": {},
   "outputs": [
    {
     "data": {
      "text/plain": [
       "'coefficients: b0=19.99, b1=3.41; formula: y = 3.41x + 19.99'"
      ]
     },
     "metadata": {},
     "output_type": "display_data"
    },
    {
     "data": {
      "text/plain": [
       "'metrics: rmse=35.37'"
      ]
     },
     "metadata": {},
     "output_type": "display_data"
    }
   ],
   "source": [
    "from csv import reader\n",
    "from random import seed, randrange\n",
    "from math import sqrt\n",
    "\n",
    "\n",
    "seed(42)\n",
    "\n",
    "\n",
    "def load_csv(file_path):\n",
    "  dataset = []\n",
    "\n",
    "  with open(file_path, \"r\") as file:\n",
    "    csv_reader = reader(file)\n",
    "    for row in csv_reader:\n",
    "      if row:\n",
    "        dataset.append(row)\n",
    "  \n",
    "  return dataset\n",
    "\n",
    "\n",
    "def str_col_to_float(dataset, col):\n",
    "  for row in dataset:\n",
    "    row[col] = float(row[col].strip())\n",
    "\n",
    "\n",
    "def train_test_split(dataset, split):\n",
    "  train = list()\n",
    "  train_size = len(dataset) * split\n",
    "  test = dataset.copy()\n",
    "\n",
    "  while len(train) < train_size:\n",
    "    idx = randrange(len(test))\n",
    "    train.append(test.pop(idx))\n",
    "  \n",
    "  return train, test\n",
    "\n",
    "\n",
    "def rmse(actual, predicted):\n",
    "  assert len(actual) == len(predicted)\n",
    "\n",
    "  error_sum_sq = sum(map(lambda a, p: pow(p - a, 2), actual, predicted))\n",
    "  mean_error = error_sum_sq / float(len(actual))\n",
    "\n",
    "  return sqrt(mean_error)\n",
    "\n",
    "\n",
    "def evaluate_algorithm(dataset, algorithm):\n",
    "  test_set = list()\n",
    "  \n",
    "  for row in dataset:\n",
    "    row_copy = list(row)\n",
    "    row_copy[-1] = None\n",
    "    test_set.append(row_copy)\n",
    "  predicted = algorithm(dataset, test_set)\n",
    "  actual = list(map(lambda row: row[-1], dataset))\n",
    "  \n",
    "  return rmse(actual, predicted)\n",
    "\n",
    "\n",
    "def mean(vals):\n",
    "  return sum(vals) / float(len(vals))\n",
    "\n",
    "\n",
    "def variance(vals):\n",
    "  m = mean(vals)\n",
    "\n",
    "  return sum(map(lambda v: pow(v - m, 2), vals))\n",
    "\n",
    "\n",
    "def covariance(vals1, vals2):\n",
    "  mean_1, mean_2 = mean(vals1), mean(vals2)\n",
    "\n",
    "  return sum(map(lambda v1, v2: (v1 - mean_1) * (v2 - mean_2), vals1, vals2))\n",
    "\n",
    "\n",
    "def coefficients(dataset):\n",
    "  x_vals = list(map(lambda row: row[0], dataset))\n",
    "  y_vals = list(map(lambda row: row[-1], dataset))\n",
    "  b1 = covariance(x_vals, y_vals) / variance(x_vals)\n",
    "  b0 = mean(y_vals) - b1 * mean(x_vals)\n",
    "  \n",
    "  return b0, b1\n",
    "\n",
    "\n",
    "def simple_linear_regresion(train, test):\n",
    "  predictions = []\n",
    "  b0, b1 = coefficients(train)\n",
    "\n",
    "  for row in test:\n",
    "    y = b1 * row[0] + b0\n",
    "    predictions.append(y)\n",
    "  \n",
    "  return predictions\n",
    "\n",
    "\n",
    "filepath = \"../datasets/auto-insurance-sweden.csv\"\n",
    "dataset = load_csv(file_path=filepath)\n",
    "\n",
    "for i in range(len(dataset[0])):\n",
    "  str_col_to_float(dataset, i)\n",
    "\n",
    "b0, b1 = coefficients(dataset)\n",
    "display(f\"coefficients: b0={b0:.2f}, b1={b1:.2f}; formula: y = {b1:.2f}x + {b0:.2f}\")\n",
    "display(f\"metrics: rmse={evaluate_algorithm(dataset, simple_linear_regresion):.2f}\")"
   ]
  }
 ],
 "metadata": {
  "kernelspec": {
   "display_name": "Python 3",
   "language": "python",
   "name": "python3"
  },
  "language_info": {
   "codemirror_mode": {
    "name": "ipython",
    "version": 3
   },
   "file_extension": ".py",
   "mimetype": "text/x-python",
   "name": "python",
   "nbconvert_exporter": "python",
   "pygments_lexer": "ipython3",
   "version": "3.9.9"
  },
  "orig_nbformat": 4,
  "vscode": {
   "interpreter": {
    "hash": "d90add59a33e9f0fdc2a403872f22c3f38cf2bdffc6f1ab0ac261e13b4722f13"
   }
  }
 },
 "nbformat": 4,
 "nbformat_minor": 2
}
