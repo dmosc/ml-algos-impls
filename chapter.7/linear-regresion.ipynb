{
 "cells": [
  {
   "cell_type": "code",
   "execution_count": 1,
   "metadata": {},
   "outputs": [],
   "source": [
    "from csv import reader\n",
    "from random import seed, randrange\n",
    "\n",
    "\n",
    "seed(42)\n",
    "\n",
    "\n",
    "def load_csv(file_path):\n",
    "  dataset = []\n",
    "\n",
    "  with open(file_path, \"r\") as file:\n",
    "    csv_reader = reader(file)\n",
    "    for row in csv_reader:\n",
    "      if row:\n",
    "        dataset.append(row)\n",
    "  \n",
    "  return dataset\n",
    "\n",
    "\n",
    "def str_col_to_float(dataset, col):\n",
    "  for row in dataset:\n",
    "    row[col] = float(row[col].strip())\n",
    "\n",
    "\n",
    "def mean(vals):\n",
    "  return sum(vals) / float(len(vals))\n",
    "\n",
    "\n",
    "def variance(vals):\n",
    "  m = mean(vals)\n",
    "  return sum(lambda v: pow(v - m, 2), vals)"
   ]
  }
 ],
 "metadata": {
  "kernelspec": {
   "display_name": "Python 3",
   "language": "python",
   "name": "python3"
  },
  "language_info": {
   "codemirror_mode": {
    "name": "ipython",
    "version": 3
   },
   "file_extension": ".py",
   "mimetype": "text/x-python",
   "name": "python",
   "nbconvert_exporter": "python",
   "pygments_lexer": "ipython3",
   "version": "3.9.9"
  },
  "orig_nbformat": 4,
  "vscode": {
   "interpreter": {
    "hash": "d90add59a33e9f0fdc2a403872f22c3f38cf2bdffc6f1ab0ac261e13b4722f13"
   }
  }
 },
 "nbformat": 4,
 "nbformat_minor": 2
}
