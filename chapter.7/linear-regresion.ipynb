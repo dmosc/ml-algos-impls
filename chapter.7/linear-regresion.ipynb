{
 "cells": [
  {
   "cell_type": "code",
   "execution_count": 20,
   "metadata": {},
   "outputs": [
    {
     "data": {
      "text/plain": [
       "'x-stats: mean=3.00, var=10.00'"
      ]
     },
     "metadata": {},
     "output_type": "display_data"
    },
    {
     "data": {
      "text/plain": [
       "'y-stats: mean=2.80, var=8.80'"
      ]
     },
     "metadata": {},
     "output_type": "display_data"
    },
    {
     "data": {
      "text/plain": [
       "'covar=8.0'"
      ]
     },
     "metadata": {},
     "output_type": "display_data"
    }
   ],
   "source": [
    "from csv import reader\n",
    "from random import seed, randrange\n",
    "\n",
    "\n",
    "seed(42)\n",
    "\n",
    "\n",
    "def load_csv(file_path):\n",
    "  dataset = []\n",
    "\n",
    "  with open(file_path, \"r\") as file:\n",
    "    csv_reader = reader(file)\n",
    "    for row in csv_reader:\n",
    "      if row:\n",
    "        dataset.append(row)\n",
    "  \n",
    "  return dataset\n",
    "\n",
    "\n",
    "def str_col_to_float(dataset, col):\n",
    "  for row in dataset:\n",
    "    row[col] = float(row[col].strip())\n",
    "\n",
    "\n",
    "def mean(vals):\n",
    "  return sum(vals) / float(len(vals))\n",
    "\n",
    "\n",
    "def variance(vals):\n",
    "  m = mean(vals)\n",
    "  return sum(map(lambda v: pow(v - m, 2), vals))\n",
    "\n",
    "\n",
    "def covariance(vals1, vals2):\n",
    "  mean_1, mean_2 = mean(vals1), mean(vals2)\n",
    "  return sum(map(lambda v1, v2: (v1 - mean_1) * (v2 - mean_2), vals1, vals2))\n",
    "\n",
    "\n",
    "dataset = [[1, 1], [2, 3], [4, 3], [3, 2], [5, 5]]\n",
    "x_vals = list(map(lambda row: row[0], dataset))\n",
    "y_vals = list(map(lambda row: row[1], dataset))\n",
    "\n",
    "mean_x, mean_y = mean(x_vals), mean(y_vals)\n",
    "var_x, var_y = variance(x_vals), variance(y_vals)\n",
    "display(f\"x-stats: mean={mean_x:.2f}, var={var_x:.2f}\")\n",
    "display(f\"y-stats: mean={mean_y:.2f}, var={var_y:.2f}\")\n",
    "display(f\"covar={covariance(x_vals, y_vals)}\")"
   ]
  },
  {
   "cell_type": "code",
   "execution_count": 25,
   "metadata": {},
   "outputs": [
    {
     "data": {
      "text/plain": [
       "'coefficients: b0=0.40, b1=0.80; formula: y = 0.80x + 0.40'"
      ]
     },
     "metadata": {},
     "output_type": "display_data"
    }
   ],
   "source": [
    "def coefficients(dataset):\n",
    "  x_vals = list(map(lambda row: row[0], dataset))\n",
    "  y_vals = list(map(lambda row: row[1], dataset))\n",
    "  b1 = covariance(x_vals, y_vals) / variance(x_vals)\n",
    "  b0 = mean(y_vals) - b1 * mean(x_vals)\n",
    "  return b0, b1\n",
    "\n",
    "\n",
    "dataset = [[1, 1], [2, 3], [4, 3], [3, 2], [5, 5]]\n",
    "b0, b1 = coefficients(dataset)\n",
    "display(f\"coefficients: b0={b0:.2f}, b1={b1:.2f}; formula: y = {b1:.2f}x + {b0:.2f}\")"
   ]
  }
 ],
 "metadata": {
  "kernelspec": {
   "display_name": "Python 3",
   "language": "python",
   "name": "python3"
  },
  "language_info": {
   "codemirror_mode": {
    "name": "ipython",
    "version": 3
   },
   "file_extension": ".py",
   "mimetype": "text/x-python",
   "name": "python",
   "nbconvert_exporter": "python",
   "pygments_lexer": "ipython3",
   "version": "3.9.9"
  },
  "orig_nbformat": 4,
  "vscode": {
   "interpreter": {
    "hash": "d90add59a33e9f0fdc2a403872f22c3f38cf2bdffc6f1ab0ac261e13b4722f13"
   }
  }
 },
 "nbformat": 4,
 "nbformat_minor": 2
}
