{
 "cells": [
  {
   "cell_type": "code",
   "execution_count": 3,
   "metadata": {},
   "outputs": [
    {
     "name": "stdout",
     "output_type": "stream",
     "text": [
      "true mean=3.5\n",
      "samples=1; mean=5.0\n",
      "samples=10; mean=2.6\n",
      "samples=100; mean=3.65\n"
     ]
    }
   ],
   "source": [
    "from random import randrange, seed\n",
    "\n",
    "\n",
    "seed(42)\n",
    "\n",
    "\n",
    "def subsample(dataset, ratio=1.0):\n",
    "  size = len(dataset)\n",
    "  sample_size = int(size * ratio)\n",
    "  sample = []\n",
    "  \n",
    "  for i in range(sample_size):\n",
    "    sample.append(dataset[randrange(size)])\n",
    "\n",
    "  return sample\n",
    "\n",
    "\n",
    "def mean(numbers):\n",
    "  return sum(numbers) / float(len(numbers))\n",
    "\n",
    "\n",
    "ratio = 0.1\n",
    "dataset = [[randrange(10)] for i in range(20)]\n",
    "print(f\"true mean={mean([row[0] for row in dataset])}\")\n",
    "for ssize in [1, 10, 100]:\n",
    "  sample_means = []\n",
    "  for i in range(ssize):\n",
    "    sample = subsample(dataset, ratio)\n",
    "    sample_means.append(mean([row[0] for row in sample]))\n",
    "  print(f\"samples={ssize}; mean={mean(sample_means)}\")"
   ]
  }
 ],
 "metadata": {
  "kernelspec": {
   "display_name": "Python 3",
   "language": "python",
   "name": "python3"
  },
  "language_info": {
   "codemirror_mode": {
    "name": "ipython",
    "version": 3
   },
   "file_extension": ".py",
   "mimetype": "text/x-python",
   "name": "python",
   "nbconvert_exporter": "python",
   "pygments_lexer": "ipython3",
   "version": "3.9.9"
  },
  "orig_nbformat": 4,
  "vscode": {
   "interpreter": {
    "hash": "d90add59a33e9f0fdc2a403872f22c3f38cf2bdffc6f1ab0ac261e13b4722f13"
   }
  }
 },
 "nbformat": 4,
 "nbformat_minor": 2
}
